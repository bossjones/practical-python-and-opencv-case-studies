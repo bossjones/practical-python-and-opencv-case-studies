{
 "cells": [
  {
   "cell_type": "code",
   "execution_count": null,
   "source": [
    "# USAGE\n",
    "# python translation.py --image ../images/trex.png\n",
    "\n",
    "import argparse\n",
    "\n",
    "from cv2 import cv2\n",
    "import imutils\n",
    "# Import the necessary packages\n",
    "import numpy as np\n",
    "from PIL import Image\n",
    "from IPython.display import display\n",
    "\n",
    "# Construct the argument parser and parse the arguments\n",
    "ap = argparse.ArgumentParser()\n",
    "ap.add_argument(\"-i\", \"--image\", required=True, help=\"Path to the image\")\n",
    "args = vars(ap.parse_args())\n",
    "\n",
    "# Load the image and show it\n",
    "image = cv2.imread(args[\"image\"])"
   ],
   "outputs": [],
   "metadata": {}
  }
 ],
 "metadata": {
  "orig_nbformat": 4,
  "language_info": {
   "name": "python"
  }
 },
 "nbformat": 4,
 "nbformat_minor": 2
}