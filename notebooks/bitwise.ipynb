{
 "cells": [
  {
   "cell_type": "code",
   "execution_count": 1,
   "source": [
    "# USAGE\n",
    "# python bitwise.py --image ../images/trex.png\n",
    "import os\n",
    "import argparse\n",
    "import pathlib\n",
    "from typing import Union, Any\n",
    "\n",
    "import cv2\n",
    "import imutils\n",
    "# Import the necessary packages\n",
    "import numpy as np\n",
    "from PIL import Image\n",
    "from IPython.display import display\n",
    "\n",
    "# First, let's draw a rectangle\n",
    "rectangle = np.zeros((300, 300), dtype=\"uint8\")\n",
    "cv2.rectangle(rectangle, (25, 25), (275, 275), 255, -1)\n",
    "\n",
    "\n",
    "# In Pillow, the order of colors is assumed to be RGB (red, green, blue).\n",
    "# As we are using Image.fromarray() of PIL module, we need to convert BGR to RGB.\n",
    "temp_image = cv2.cvtColor(rectangle, cv2.COLOR_BGR2RGB) # Converting BGR to RGB\n",
    "\n",
    "# SOURCE: https://gist.github.com/mstfldmr/45d6e47bb661800b982c39d30215bc88\n",
    "display(Image.fromarray(temp_image))\n",
    "\n",
    "\n",
    "rectangle.shape\n"
   ],
   "outputs": [
    {
     "output_type": "display_data",
     "data": {
      "image/png": "[encoded data removed]",
      "text/plain": [
       "<PIL.Image.Image image mode=RGB size=300x300 at 0x10A6E98E0>"
      ]
     },
     "metadata": {}
    },
    {
     "output_type": "execute_result",
     "data": {
      "text/plain": [
       "(300, 300)"
      ]
     },
     "metadata": {},
     "execution_count": 1
    }
   ],
   "metadata": {}
  },
  {
   "cell_type": "code",
   "execution_count": 2,
   "source": [
    "\n",
    "# Secondly, let's draw a circle\n",
    "circle = np.zeros((300, 300), dtype=\"uint8\")\n",
    "cv2.circle(circle, (150, 150), 150, 255, -1)\n",
    "\n",
    "\n",
    "\n",
    "# In Pillow, the order of colors is assumed to be RGB (red, green, blue).\n",
    "# As we are using Image.fromarray() of PIL module, we need to convert BGR to RGB.\n",
    "temp_image = cv2.cvtColor(circle, cv2.COLOR_BGR2RGB) # Converting BGR to RGB\n",
    "\n",
    "# SOURCE: https://gist.github.com/mstfldmr/45d6e47bb661800b982c39d30215bc88\n",
    "display(Image.fromarray(temp_image))\n",
    "\n",
    "\n",
    "circle.shape"
   ],
   "outputs": [
    {
     "output_type": "display_data",
     "data": {
      "image/png": "[encoded data removed]",
      "text/plain": [
       "<PIL.Image.Image image mode=RGB size=300x300 at 0x10A6CAE80>"
      ]
     },
     "metadata": {}
    },
    {
     "output_type": "execute_result",
     "data": {
      "text/plain": [
       "(300, 300)"
      ]
     },
     "metadata": {},
     "execution_count": 2
    }
   ],
   "metadata": {}
  },
  {
   "cell_type": "code",
   "execution_count": 3,
   "source": [
    "# A bitwise 'AND' is only True when both rectangle\n",
    "# and circle have a value that is 'ON'. Simply put,\n",
    "# the bitwise_and function examines every pixel in\n",
    "# rectangle and circle. If both pixels have a value\n",
    "# greater than zero, that pixel is turned 'ON' (i.e\n",
    "# set to 255 in the output image). If both pixels\n",
    "# are not greater than zero, then the output pixel\n",
    "# is left 'OFF' with a value of 0.\n",
    "bitwiseAnd = cv2.bitwise_and(rectangle, circle)\n",
    "\n",
    "# In Pillow, the order of colors is assumed to be RGB (red, green, blue).\n",
    "# As we are using Image.fromarray() of PIL module, we need to convert BGR to RGB.\n",
    "temp_image = cv2.cvtColor(bitwiseAnd, cv2.COLOR_BGR2RGB) # Converting BGR to RGB\n",
    "\n",
    "# SOURCE: https://gist.github.com/mstfldmr/45d6e47bb661800b982c39d30215bc88\n",
    "display(Image.fromarray(temp_image))\n",
    "\n",
    "\n",
    "bitwiseAnd.shape"
   ],
   "outputs": [
    {
     "output_type": "display_data",
     "data": {
      "image/png": "[encoded data removed]",
      "text/plain": [
       "<PIL.Image.Image image mode=RGB size=300x300 at 0x10A6444F0>"
      ]
     },
     "metadata": {}
    },
    {
     "output_type": "execute_result",
     "data": {
      "text/plain": [
       "(300, 300)"
      ]
     },
     "metadata": {},
     "execution_count": 3
    }
   ],
   "metadata": {}
  },
  {
   "cell_type": "code",
   "execution_count": 4,
   "source": [
    "# A bitwise 'OR' examines every pixel in rectangle\n",
    "# and circle. If EITHER pixel in rectangle or circle\n",
    "# is greater than zero, then the output pixel has a\n",
    "# value of 255, otherwise it is 0.\n",
    "bitwiseOr = cv2.bitwise_or(rectangle, circle)\n",
    "\n",
    "\n",
    "# In Pillow, the order of colors is assumed to be RGB (red, green, blue).\n",
    "# As we are using Image.fromarray() of PIL module, we need to convert BGR to RGB.\n",
    "temp_image = cv2.cvtColor(bitwiseOr, cv2.COLOR_BGR2RGB) # Converting BGR to RGB\n",
    "\n",
    "# SOURCE: https://gist.github.com/mstfldmr/45d6e47bb661800b982c39d30215bc88\n",
    "display(Image.fromarray(temp_image))\n",
    "\n",
    "\n",
    "bitwiseOr.shape"
   ],
   "outputs": [
    {
     "output_type": "display_data",
     "data": {
      "image/png": "[encoded data removed]",
      "text/plain": [
       "<PIL.Image.Image image mode=RGB size=300x300 at 0x137265520>"
      ]
     },
     "metadata": {}
    },
    {
     "output_type": "execute_result",
     "data": {
      "text/plain": [
       "(300, 300)"
      ]
     },
     "metadata": {},
     "execution_count": 4
    }
   ],
   "metadata": {}
  },
  {
   "cell_type": "code",
   "execution_count": 5,
   "source": [
    "# The bitwise 'XOR' is identical to the 'OR' function,\n",
    "# with one exception: both rectangle and circle are\n",
    "# not allowed to have values greater than 0.\n",
    "bitwiseXor = cv2.bitwise_xor(rectangle, circle)\n",
    "\n",
    "\n",
    "\n",
    "# In Pillow, the order of colors is assumed to be RGB (red, green, blue).\n",
    "# As we are using Image.fromarray() of PIL module, we need to convert BGR to RGB.\n",
    "temp_image = cv2.cvtColor(bitwiseXor, cv2.COLOR_BGR2RGB) # Converting BGR to RGB\n",
    "\n",
    "# SOURCE: https://gist.github.com/mstfldmr/45d6e47bb661800b982c39d30215bc88\n",
    "display(Image.fromarray(temp_image))\n",
    "\n",
    "\n",
    "bitwiseXor.shape"
   ],
   "outputs": [
    {
     "output_type": "display_data",
     "data": {
      "image/png": "[encoded data removed]",
      "text/plain": [
       "<PIL.Image.Image image mode=RGB size=300x300 at 0x10A6246A0>"
      ]
     },
     "metadata": {}
    },
    {
     "output_type": "execute_result",
     "data": {
      "text/plain": [
       "(300, 300)"
      ]
     },
     "metadata": {},
     "execution_count": 5
    }
   ],
   "metadata": {}
  },
  {
   "cell_type": "code",
   "execution_count": 6,
   "source": [
    "# Finally, the bitwise 'NOT' inverts the values of\n",
    "# the pixels. Pixels with a value of 255 become 0,\n",
    "# and pixels with a value of 0 become 255.\n",
    "bitwiseNot = cv2.bitwise_not(circle)\n",
    "\n",
    "\n",
    "\n",
    "\n",
    "# In Pillow, the order of colors is assumed to be RGB (red, green, blue).\n",
    "# As we are using Image.fromarray() of PIL module, we need to convert BGR to RGB.\n",
    "temp_image = cv2.cvtColor(bitwiseNot, cv2.COLOR_BGR2RGB) # Converting BGR to RGB\n",
    "\n",
    "# SOURCE: https://gist.github.com/mstfldmr/45d6e47bb661800b982c39d30215bc88\n",
    "display(Image.fromarray(temp_image))\n",
    "\n",
    "\n",
    "bitwiseNot.shape"
   ],
   "outputs": [
    {
     "output_type": "display_data",
     "data": {
      "image/png": "[encoded data removed]",
      "text/plain": [
       "<PIL.Image.Image image mode=RGB size=300x300 at 0x10A6E9DF0>"
      ]
     },
     "metadata": {}
    },
    {
     "output_type": "execute_result",
     "data": {
      "text/plain": [
       "(300, 300)"
      ]
     },
     "metadata": {},
     "execution_count": 6
    }
   ],
   "metadata": {}
  },
  {
   "cell_type": "code",
   "execution_count": null,
   "source": [],
   "outputs": [],
   "metadata": {}
  }
 ],
 "metadata": {
  "orig_nbformat": 4,
  "language_info": {
   "name": "python",
   "version": "3.9.0",
   "mimetype": "text/x-python",
   "codemirror_mode": {
    "name": "ipython",
    "version": 3
   },
   "pygments_lexer": "ipython3",
   "nbconvert_exporter": "python",
   "file_extension": ".py"
  },
  "kernelspec": {
   "name": "python3",
   "display_name": "Python 3.9.0 64-bit ('practical-python-and-opencv-case-studies3': pyenv)"
  },
  "interpreter": {
   "hash": "2074fe3e88e8670a6f702a65dd1e5b70ed9ae14bc41cb79242913389cf607e9c"
  }
 },
 "nbformat": 4,
 "nbformat_minor": 2
}