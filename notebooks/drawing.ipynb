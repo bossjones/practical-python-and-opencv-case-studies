{
 "cells": [
  {
   "cell_type": "code",
   "execution_count": 2,
   "source": [
    "# USAGE\n",
    "# python drawing.py\n",
    "\n",
    "from PIL import Image\n",
    "from IPython.display import display\n",
    "\n",
    "from cv2 import cv2\n",
    "# Import the necessary packages\n",
    "import numpy as np"
   ],
   "outputs": [],
   "metadata": {}
  },
  {
   "cell_type": "code",
   "execution_count": 3,
   "source": [
    "# Initialize our canvas as a 300x300 with 3 channels,\n",
    "# Red, Green, and Blue, with a black background\n",
    "canvas = np.zeros((300, 300, 3), dtype=\"uint8\")\n",
    "\n",
    "# Draw a green line from the top-left corner of our canvas\n",
    "# to the bottom-right\n",
    "green = (0, 255, 0)\n",
    "cv2.line(canvas, (0, 0), (300, 300), green)\n",
    "# cv2.imshow(\"Canvas\", canvas)\n",
    "# cv2.waitKey(0)\n",
    "\n",
    "# SOURCE: https://gist.github.com/mstfldmr/45d6e47bb661800b982c39d30215bc88\n",
    "display(Image.fromarray(canvas))"
   ],
   "outputs": [
    {
     "output_type": "display_data",
     "data": {
      "image/png": "[encoded data removed]",
      "text/plain": [
       "<PIL.Image.Image image mode=RGB size=300x300 at 0x112F1EA60>"
      ]
     },
     "metadata": {}
    }
   ],
   "metadata": {}
  },
  {
   "cell_type": "code",
   "execution_count": null,
   "source": [],
   "outputs": [],
   "metadata": {}
  }
 ],
 "metadata": {
  "orig_nbformat": 4,
  "language_info": {
   "name": "python",
   "version": "3.9.0",
   "mimetype": "text/x-python",
   "codemirror_mode": {
    "name": "ipython",
    "version": 3
   },
   "pygments_lexer": "ipython3",
   "nbconvert_exporter": "python",
   "file_extension": ".py"
  },
  "kernelspec": {
   "name": "python3",
   "display_name": "Python 3.9.0 64-bit ('practical-python-and-opencv-case-studies3': pyenv)"
  },
  "interpreter": {
   "hash": "2074fe3e88e8670a6f702a65dd1e5b70ed9ae14bc41cb79242913389cf607e9c"
  }
 },
 "nbformat": 4,
 "nbformat_minor": 2
}